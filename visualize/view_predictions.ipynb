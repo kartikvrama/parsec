{
 "cells": [
  {
   "cell_type": "markdown",
   "metadata": {},
   "source": [
    "# Model Prediction Visualization\n",
    "\n",
    "This notebook visualizes the initial state of an environment and displays predictions from different rearrangement models. It loads model outputs, shows individual rules and placement prompts, and provides text visualizations for the initial and predicted object arrangements. The notebook also reports relevant statistics such as edit distance and incorrectly grouped objects."
   ]
  },
  {
   "cell_type": "code",
   "execution_count": null,
   "metadata": {},
   "outputs": [],
   "source": [
    "import os\n",
    "import sys\n",
    "sys.path.append(\"../\")\n",
    "import pickle as pickle\n",
    "from utils.utils_data import return_object_surface_constants\n",
    "from utils.utils_data import json_to_scene, visualize_scene\n",
    "\n",
    "## Constants\n",
    "object_label_dict, surface_constants = return_object_surface_constants()"
   ]
  },
  {
   "cell_type": "code",
   "execution_count": null,
   "metadata": {},
   "outputs": [],
   "source": [
    "## User Inputs\n",
    "\n",
    "\"\"\"\n",
    "Model options: contextsortlm, apricot_non_interactive, tidybot\n",
    "\"\"\"\n",
    "\n",
    "# pred_id = \"63d2d8a78197f0f6168543b1_F_gperm_0_gnum6_dpermA-0-0_B-0-0_C-0-0_D-0-0\"\n",
    "pred_id = \"63d2d8a78197f0f6168543b1_F_gperm_0_gnum7_dpermA-0-0_B-0-0_C-0-0_D-0-0.pkl\"\n",
    "model = \"contextsortlm\"\n",
    "parent_folder = f\"<path_to_LLM_responses>\""
   ]
  },
  {
   "cell_type": "code",
   "execution_count": null,
   "metadata": {},
   "outputs": [],
   "source": [
    "results_folder = f\"<path_to_LLM_responses>{model}_responses\"\n",
    "\n",
    "files = [f for f in os.listdir(results_folder) if f.endswith(\".pkl\") and f.startswith(pred_id)]\n",
    "if len(files) == 0:\n",
    "    raise ValueError(f\"No files found for prediction ID: {pred_id}, please check the prediction ID and try again.\")\n",
    "\n",
    "with open(os.path.join(results_folder, files[0]), \"rb\") as f:\n",
    "    data = pickle.load(f)"
   ]
  },
  {
   "cell_type": "code",
   "execution_count": null,
   "metadata": {},
   "outputs": [],
   "source": [
    "## All keys\n",
    "print(data.keys())"
   ]
  },
  {
   "cell_type": "code",
   "execution_count": null,
   "metadata": {},
   "outputs": [],
   "source": [
    "## ContextSortLM - individual rules\n",
    "if \"rules\" in data:\n",
    "    print(\"Rules:\")\n",
    "    for rule in data[\"rules\"]:\n",
    "        print(rule)\n",
    "        print(\"-\"*100)\n",
    "    print(\"\\n\")\n",
    "\n",
    "if \"placement_prompt\" in data:\n",
    "    print(\"Placement Prompt:\")\n",
    "    print(data[\"placement_prompt\"])\n",
    "    print(\"\\n\")\n",
    "\n",
    "if \"summary_response\" in data:\n",
    "    print(\"Summary Response:\")\n",
    "    print(data[\"summary_response\"])\n",
    "    print(\"\\n\")\n",
    "\n"
   ]
  },
  {
   "cell_type": "code",
   "execution_count": null,
   "metadata": {},
   "outputs": [],
   "source": [
    "\"\"\"\n",
    "{\n",
    "'soda cans':[\"top door shelf\", \"top door shelf\"],\n",
    "'lemonade, bottled water, drinks':[\"middle door shelf\"],\n",
    "'milk cartons':[\"bottom door shelf\", \"bottom door shelf\"],\n",
    "'ketchup bottles, jams, sauces, condiments':[\"top door shelf\", \"middle door shelf\",\"bottom door shelf\"],\n",
    "}\n",
    "\"\"\""
   ]
  },
  {
   "cell_type": "code",
   "execution_count": null,
   "metadata": {},
   "outputs": [],
   "source": [
    "for p in data[\"placements\"]:\n",
    "    print(p)\n",
    "    print(\"-\"*100)"
   ]
  },
  {
   "cell_type": "code",
   "execution_count": null,
   "metadata": {},
   "outputs": [],
   "source": [
    "## Initial Scene\n",
    "visualize_scene(data[\"partial\"])"
   ]
  },
  {
   "cell_type": "code",
   "execution_count": null,
   "metadata": {},
   "outputs": [],
   "source": [
    "## Predicted Scene\n",
    "visualize_scene(data[\"predicted\"])\n",
    "\n",
    "## Stats\n",
    "print(f\"Edit distance: {data['edit_distance']}\")\n",
    "print(f\"Number of incorrectly grouped objects: {data['igo']}\")"
   ]
  },
  {
   "cell_type": "code",
   "execution_count": null,
   "metadata": {},
   "outputs": [],
   "source": [
    "## Goal scene\n",
    "## TODO: get goal scene from user arrangements json"
   ]
  }
 ],
 "metadata": {
  "kernelspec": {
   "display_name": "declutter",
   "language": "python",
   "name": "python3"
  },
  "language_info": {
   "codemirror_mode": {
    "name": "ipython",
    "version": 3
   },
   "file_extension": ".py",
   "mimetype": "text/x-python",
   "name": "python",
   "nbconvert_exporter": "python",
   "pygments_lexer": "ipython3",
   "version": "3.9.0"
  }
 },
 "nbformat": 4,
 "nbformat_minor": 2
}
